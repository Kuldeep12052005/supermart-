{
 "cells": [
  {
   "cell_type": "code",
   "execution_count": 1,
   "id": "2efcdb84-3710-4057-a515-213ad982ce8a",
   "metadata": {},
   "outputs": [
    {
     "name": "stdin",
     "output_type": "stream",
     "text": [
      "Enter total items:  4\n",
      "Enter item name:  sugur\n",
      "Enter price:  46\n",
      "Enter item name:  tea\n",
      "Enter price:  56\n",
      "Enter item name:  coffee\n",
      "Enter price:  34\n",
      "Enter item name:  water\n",
      "Enter price:  20\n"
     ]
    },
    {
     "name": "stdout",
     "output_type": "stream",
     "text": [
      "\n",
      "\n"
     ]
    },
    {
     "name": "stdin",
     "output_type": "stream",
     "text": [
      "Enter Costumer Name:  kuldeep\n",
      "Enter Costumer Address:  jaipur\n",
      "Enter Bill Number:  298466428\n",
      "Enter Bill Month/Date:  10-10-2024\n",
      "Enter Voucher Number:  737he73e\n",
      "Enter Cashier Name:  raman\n",
      "Enter Time:  10:20 pm\n"
     ]
    },
    {
     "name": "stdout",
     "output_type": "stream",
     "text": [
      "-------------------------------------\n",
      "AVENUE SUPERMARTS LTD\n",
      "CIN : L51900RJ2000PLC24345\n",
      "GSTIN : 29AACCA8664H1ZM\n",
      "-------------------------------------\n",
      "DMART KEONICS\n",
      "SURVEY NO 21 PLOT NO 112\n",
      "PRATAP NAGAR, SECTOR 6 JAIPUR 332601\n",
      "PHONE : 0348783874\n",
      "-------------------------------------\n",
      "TAX INVOICE\n",
      "Consumer Name    :  kuldeep\n",
      "Consumer Address :  jaipur\n",
      "Bill No          :  298466428\n",
      "Bill Month/Date  :  10-10-2024\n",
      "Cashier          :  raman\n",
      "Time             :  10:20 pm\n",
      "\n",
      "Item Details:\n",
      "sugur: 46.00\n",
      "tea: 56.00\n",
      "coffee: 34.00\n",
      "water: 20.00\n",
      "\n",
      "Total Amount: 156.00\n"
     ]
    }
   ],
   "source": [
    "class Item:\n",
    "    def __init__(self, itemname, price):\n",
    "        self.itemname = itemname\n",
    "        self.price = price\n",
    "\n",
    "totalitems = int(input(\"Enter total items: \"))\n",
    "\n",
    "items_list = []\n",
    "\n",
    "for i in range(totalitems):\n",
    "    name = input(\"Enter item name: \")\n",
    "    price = float(input(\"Enter price: \"))\n",
    "    items_list.append(Item(name, price))\n",
    "\n",
    "\n",
    "print(\"\\n\")\n",
    "Cn = input(\"Enter Costumer Name: \")\n",
    "Ca = input(\"Enter Costumer Address: \")\n",
    "Bill_no = input(\"Enter Bill Number: \")\n",
    "billd = input(\"Enter Bill Month/Date: \")\n",
    "vou = input(\"Enter Voucher Number: \")\n",
    "cash = input(\"Enter Cashier Name: \")\n",
    "T = input(\"Enter Time: \")\n",
    "\n",
    "print(\"-------------------------------------\")\n",
    "print(\"AVENUE SUPERMARTS LTD\")\n",
    "print(\"CIN : L51900RJ2000PLC24345\")\n",
    "print(\"GSTIN : 29AACCA8664H1ZM\")\n",
    "print(\"-------------------------------------\")\n",
    "print(\"DMART KEONICS\")\n",
    "print(\"SURVEY NO 21 PLOT NO 112\")\n",
    "print(\"PRATAP NAGAR, SECTOR 6 JAIPUR 332601\")\n",
    "print(\"PHONE : 0348783874\")\n",
    "print(\"-------------------------------------\")\n",
    "print(\"TAX INVOICE\")\n",
    "print(\"Consumer Name    : \", Cn)\n",
    "print(\"Consumer Address : \", Ca)\n",
    "print(\"Bill No          : \", Bill_no)\n",
    "print(\"Bill Month/Date  : \", billd)\n",
    "print(\"Cashier          : \", cash)\n",
    "print(\"Time             : \", T)\n",
    "\n",
    "\n",
    "print(\"\\nItem Details:\")\n",
    "for item in items_list:\n",
    "    print(f\"{item.itemname}: {item.price:.2f}\")\n",
    "\n",
    "\n",
    "total_amount = sum(item.price for item in items_list)\n",
    "print(f\"\\nTotal Amount: {total_amount:.2f}\")\n"
   ]
  },
  {
   "cell_type": "code",
   "execution_count": null,
   "id": "373da19a-b058-4e59-9b80-081ca97a417f",
   "metadata": {},
   "outputs": [],
   "source": []
  }
 ],
 "metadata": {
  "kernelspec": {
   "display_name": "Python 3 (ipykernel)",
   "language": "python",
   "name": "python3"
  },
  "language_info": {
   "codemirror_mode": {
    "name": "ipython",
    "version": 3
   },
   "file_extension": ".py",
   "mimetype": "text/x-python",
   "name": "python",
   "nbconvert_exporter": "python",
   "pygments_lexer": "ipython3",
   "version": "3.12.4"
  }
 },
 "nbformat": 4,
 "nbformat_minor": 5
}
